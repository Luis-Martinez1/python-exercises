{
 "cells": [
  {
   "cell_type": "markdown",
   "id": "38df2225",
   "metadata": {},
   "source": [
    "1. Conditional Basics"
   ]
  },
  {
   "cell_type": "code",
   "execution_count": 2,
   "id": "0b640014",
   "metadata": {},
   "outputs": [
    {
     "name": "stdout",
     "output_type": "stream",
     "text": [
      "What day is it today?monda\n",
      "it is not Monday\n"
     ]
    }
   ],
   "source": [
    "# a. Prompt the user for a day of the week, print out whether the day is Monday or not\n",
    "\n",
    "day = input('What day is it today?')\n",
    "\n",
    "if (day).lower() == 'monday':\n",
    "    print('it is Monday')\n",
    "else:\n",
    "    print('it is not Monday')\n",
    "\n"
   ]
  },
  {
   "cell_type": "code",
   "execution_count": 3,
   "id": "e82430d8",
   "metadata": {
    "scrolled": true
   },
   "outputs": [
    {
     "name": "stdout",
     "output_type": "stream",
     "text": [
      "What day is today?sunday\n",
      "it is the weekend\n"
     ]
    }
   ],
   "source": [
    "# b. Prompt the user for a day of the week, print out whether the day is a weekday or a weekend\n",
    "\n",
    "new_day = input('What day is today?')\n",
    "\n",
    "if (new_day).lower() in ['saturday', 'sunday']:\n",
    "    print('it is the weekend')\n",
    "else:\n",
    "    print('it is not the weekend')\n",
    "        \n",
    "        \n"
   ]
  },
  {
   "cell_type": "code",
   "execution_count": 4,
   "id": "5569336a",
   "metadata": {},
   "outputs": [
    {
     "name": "stdout",
     "output_type": "stream",
     "text": [
      "How many hours did you work?41\n",
      "622.5\n"
     ]
    }
   ],
   "source": [
    "#### C Calculate a weekly paycheck, accounting for overtime pay.          \n",
    "    # Create variables and make up values for:\n",
    "    # The number of hours worked in one week\n",
    "    # The hourly rate\n",
    "    # For calculating pay:\n",
    "    # For working 40 hours or less, each hour is paid at the hourly rate\n",
    "    # For working more than 40 hours\n",
    "    # the first 40 hours are paid at the hourly rate\n",
    "    # each hour after 40 is paid at time and a half (hourly rate * 1.5)\n",
    "    \n",
    "\n",
    "hours_worked = int(input('How many hours did you work?')) \n",
    "regular_rate = 15\n",
    "if hours_worked <= 40:\n",
    "        print(hours_worked*regular_rate)\n",
    "else:\n",
    "    print(regular_rate * (((hours_worked - 40)*1.5)+40))"
   ]
  },
  {
   "cell_type": "markdown",
   "id": "fbca720b",
   "metadata": {},
   "source": [
    "2. Loop Basics"
   ]
  },
  {
   "cell_type": "markdown",
   "id": "c84b1e09",
   "metadata": {},
   "source": [
    "    a. While"
   ]
  },
  {
   "cell_type": "code",
   "execution_count": 5,
   "id": "56fd46bb",
   "metadata": {},
   "outputs": [
    {
     "name": "stdout",
     "output_type": "stream",
     "text": [
      "5\n",
      "6\n",
      "7\n",
      "8\n",
      "9\n",
      "10\n",
      "11\n",
      "12\n",
      "13\n",
      "14\n",
      "15\n"
     ]
    }
   ],
   "source": [
    "# i. Create an integer variable i with a value of 5. \n",
    "    # Create a while loop that runs so long as i is less than or equal to 15. \n",
    "    # Each loop iteration, output the current value of i, then increment i by one.\n",
    "\n",
    "i = 5\n",
    "\n",
    "while i <= 15:\n",
    "    print(i)\n",
    "    i += 1"
   ]
  },
  {
   "cell_type": "code",
   "execution_count": 6,
   "id": "56e0f3e5",
   "metadata": {},
   "outputs": [
    {
     "name": "stdout",
     "output_type": "stream",
     "text": [
      "0 \n",
      "\n",
      "2 \n",
      "\n",
      "4 \n",
      "\n",
      "6 \n",
      "\n",
      "8 \n",
      "\n",
      "10 \n",
      "\n",
      "12 \n",
      "\n",
      "14 \n",
      "\n",
      "16 \n",
      "\n",
      "18 \n",
      "\n",
      "20 \n",
      "\n",
      "22 \n",
      "\n",
      "24 \n",
      "\n",
      "26 \n",
      "\n",
      "28 \n",
      "\n",
      "30 \n",
      "\n",
      "32 \n",
      "\n",
      "34 \n",
      "\n",
      "36 \n",
      "\n",
      "38 \n",
      "\n",
      "40 \n",
      "\n",
      "42 \n",
      "\n",
      "44 \n",
      "\n",
      "46 \n",
      "\n",
      "48 \n",
      "\n",
      "50 \n",
      "\n",
      "52 \n",
      "\n",
      "54 \n",
      "\n",
      "56 \n",
      "\n",
      "58 \n",
      "\n",
      "60 \n",
      "\n",
      "62 \n",
      "\n",
      "64 \n",
      "\n",
      "66 \n",
      "\n",
      "68 \n",
      "\n",
      "70 \n",
      "\n",
      "72 \n",
      "\n",
      "74 \n",
      "\n",
      "76 \n",
      "\n",
      "78 \n",
      "\n",
      "80 \n",
      "\n",
      "82 \n",
      "\n",
      "84 \n",
      "\n",
      "86 \n",
      "\n",
      "88 \n",
      "\n",
      "90 \n",
      "\n",
      "92 \n",
      "\n",
      "94 \n",
      "\n",
      "96 \n",
      "\n",
      "98 \n",
      "\n",
      "100 \n",
      "\n"
     ]
    }
   ],
   "source": [
    "# i. Create a while loop that will count by 2's starting with 0 and ending at 100. \n",
    "    # Follow each number with a new line.\n",
    "\n",
    "i = 0\n",
    "while i <= 101:\n",
    "    print(i,'\\n')\n",
    "    i += 2"
   ]
  },
  {
   "cell_type": "code",
   "execution_count": 45,
   "id": "7797777a",
   "metadata": {},
   "outputs": [
    {
     "name": "stdout",
     "output_type": "stream",
     "text": [
      "2\n",
      "4\n",
      "16\n",
      "256\n",
      "65536\n"
     ]
    }
   ],
   "source": [
    "# ii. Create a while loop that starts at 2, and displays the number squared on each line \n",
    "    # while the number is less than 1,000,000. Output should equal:\n",
    "\n",
    "\n",
    "\n",
    "i = 2\n",
    "while i <= 1000000:\n",
    "    print(i)\n",
    "    i **= 2 "
   ]
  },
  {
   "cell_type": "code",
   "execution_count": 47,
   "id": "0ec9c744",
   "metadata": {},
   "outputs": [
    {
     "name": "stdout",
     "output_type": "stream",
     "text": [
      "100\n",
      "95\n",
      "90\n",
      "85\n",
      "80\n",
      "75\n",
      "70\n",
      "65\n",
      "60\n",
      "55\n",
      "50\n",
      "45\n",
      "40\n",
      "35\n",
      "30\n",
      "25\n",
      "20\n",
      "15\n",
      "10\n",
      "5\n"
     ]
    }
   ],
   "source": [
    "# iii. Write a while loop that uses print to create the output shown below.\n",
    "\n",
    "i = 100\n",
    "while i >= 5:\n",
    "    print(i)\n",
    "    i -= 5 "
   ]
  },
  {
   "cell_type": "markdown",
   "id": "267dd2a1",
   "metadata": {},
   "source": [
    "b. For Loops"
   ]
  },
  {
   "cell_type": "code",
   "execution_count": 103,
   "id": "caf15a94",
   "metadata": {},
   "outputs": [
    {
     "name": "stdout",
     "output_type": "stream",
     "text": [
      "please enter a number7\n",
      "7\n",
      "14\n",
      "21\n",
      "28\n",
      "35\n",
      "42\n",
      "49\n",
      "56\n",
      "63\n",
      "70\n"
     ]
    }
   ],
   "source": [
    "# i. Write some code using a for loop that prompts the user for a number, \n",
    "    # then shows a multiplication table up through 10 for that number.\n",
    "    \n",
    "x = int(input('please enter a number'))\n",
    "\n",
    "for i in range(1,11):\n",
    "    \n",
    "    print(i * x) \n",
    "    i += 1\n",
    "    \n",
    "    # How can i get it to show the whole equation?"
   ]
  },
  {
   "cell_type": "code",
   "execution_count": 135,
   "id": "8b353bbf",
   "metadata": {},
   "outputs": [
    {
     "name": "stdout",
     "output_type": "stream",
     "text": [
      "\n",
      "\n",
      "1\n",
      "\n",
      "22\n",
      "\n",
      "333\n",
      "\n",
      "4444\n",
      "\n",
      "55555\n",
      "\n",
      "666666\n",
      "\n",
      "7777777\n",
      "\n",
      "88888888\n",
      "\n",
      "999999999\n",
      "\n"
     ]
    }
   ],
   "source": [
    "# ii. Create a for loop that uses print to create the output shown below.\n",
    "\n",
    "i = 1\n",
    "for i in range(0, 10):\n",
    "    for j in range(i + 0):\n",
    "        print(i , end=\"\")\n",
    "    print(\"\\n\")\n"
   ]
  },
  {
   "cell_type": "markdown",
   "id": "3c1f940a",
   "metadata": {},
   "source": [
    "c. break and continue"
   ]
  },
  {
   "cell_type": "code",
   "execution_count": 155,
   "id": "cbb7e225",
   "metadata": {},
   "outputs": [
    {
     "name": "stdout",
     "output_type": "stream",
     "text": [
      "please enter number4\n",
      "0\n"
     ]
    }
   ],
   "source": [
    "# i. Write a program that prompts the user for a positive integer. \n",
    "    # Next write a loop that prints out the numbers from the number the user entered down to 1.\n",
    "\n",
    "n = (input('please enter number'))\n",
    "\n",
    "for n in range(100_000):\n",
    "    print(n)\n",
    "    n -= 1\n",
    "    \n",
    "    if n < 0:\n",
    "        break\n",
    "\n",
    "        \n",
    "    \n",
    "\n",
    "    \n",
    "    \n",
    "    "
   ]
  },
  {
   "cell_type": "markdown",
   "id": "3017370c",
   "metadata": {},
   "source": [
    "3. Fizzbuzz"
   ]
  },
  {
   "cell_type": "code",
   "execution_count": 165,
   "id": "4f4e06c3",
   "metadata": {},
   "outputs": [
    {
     "name": "stdout",
     "output_type": "stream",
     "text": [
      "1\n",
      "2\n",
      "Fizz\n",
      "4\n",
      "buzz\n",
      "Fizz\n",
      "7\n",
      "8\n",
      "Fizz\n",
      "buzz\n",
      "11\n",
      "Fizz\n",
      "13\n",
      "14\n",
      "Fizzbuzz\n",
      "16\n",
      "17\n",
      "Fizz\n",
      "19\n",
      "buzz\n",
      "Fizz\n",
      "22\n",
      "23\n",
      "Fizz\n",
      "buzz\n",
      "26\n",
      "Fizz\n",
      "28\n",
      "29\n",
      "Fizzbuzz\n",
      "31\n",
      "32\n",
      "Fizz\n",
      "34\n",
      "buzz\n",
      "Fizz\n",
      "37\n",
      "38\n",
      "Fizz\n",
      "buzz\n",
      "41\n",
      "Fizz\n",
      "43\n",
      "44\n",
      "Fizzbuzz\n",
      "46\n",
      "47\n",
      "Fizz\n",
      "49\n",
      "buzz\n",
      "Fizz\n",
      "52\n",
      "53\n",
      "Fizz\n",
      "buzz\n",
      "56\n",
      "Fizz\n",
      "58\n",
      "59\n",
      "Fizzbuzz\n",
      "61\n",
      "62\n",
      "Fizz\n",
      "64\n",
      "buzz\n",
      "Fizz\n",
      "67\n",
      "68\n",
      "Fizz\n",
      "buzz\n",
      "71\n",
      "Fizz\n",
      "73\n",
      "74\n",
      "Fizzbuzz\n",
      "76\n",
      "77\n",
      "Fizz\n",
      "79\n",
      "buzz\n",
      "Fizz\n",
      "82\n",
      "83\n",
      "Fizz\n",
      "buzz\n",
      "86\n",
      "Fizz\n",
      "88\n",
      "89\n",
      "Fizzbuzz\n",
      "91\n",
      "92\n",
      "Fizz\n",
      "94\n",
      "buzz\n",
      "Fizz\n",
      "97\n",
      "98\n",
      "Fizz\n",
      "buzz\n"
     ]
    }
   ],
   "source": [
    "# One of the most common interview questions for entry-level programmers is the FizzBuzz test. \n",
    "# Developed by Imran Ghory, the test is designed to test basic looping and conditional logic skills.\n",
    "# Write a program that prints the numbers from 1 to 100.\n",
    "# For multiples of three print \"Fizz\" instead of the number\n",
    "# For the multiples of five print \"Buzz\".\n",
    "# For numbers which are multiples of both three and five print \"FizzBuzz\".\n",
    "\n",
    "\n",
    "for i in range(1,101):\n",
    "    if i % 15 ==0:\n",
    "        print('Fizzbuzz')\n",
    "    elif i % 3 ==0:\n",
    "        print('Fizz')\n",
    "    elif i % 5 == 0:\n",
    "        print('buzz')\n",
    "    else: \n",
    "        print(i) \n"
   ]
  },
  {
   "cell_type": "markdown",
   "id": "a9a65a4b",
   "metadata": {},
   "source": [
    "4. Display a table of powers."
   ]
  },
  {
   "cell_type": "code",
   "execution_count": 43,
   "id": "eaeebc93",
   "metadata": {},
   "outputs": [
    {
     "name": "stdout",
     "output_type": "stream",
     "text": [
      "enter number4\n",
      "number | squared | cubed\n",
      " 1         1      1\n",
      "number | squared | cubed\n",
      " 2         4      8\n",
      "number | squared | cubed\n",
      " 3         9      27\n",
      "number | squared | cubed\n",
      " 4         16      64\n",
      "Do you wish to continue? y/ny\n",
      "enter number3\n",
      "number | squared | cubed\n",
      " 1         1      1\n",
      "number | squared | cubed\n",
      " 2         4      8\n",
      "number | squared | cubed\n",
      " 3         9      27\n",
      "Do you wish to continue? y/nn\n"
     ]
    }
   ],
   "source": [
    "# Prompt the user to enter an integer\n",
    "# Display a table of squares and cubes from 1 to the value entered\n",
    "# Ask if the user wants to continue\n",
    "# Assume that the user will enter valid data\n",
    "# Only continue if the user agrees to\n",
    "\n",
    "keep_going = 'y'\n",
    "\n",
    "while keep_going.lower() == 'y':\n",
    "    x = input('enter number')\n",
    "    for x in range(1, int(x) + 1):\n",
    "        print(f'number | squared | cubed')\n",
    "        print (f' {x}         {x ** 2}      {x ** 3}')\n",
    "    keep_going = input('Do you wish to continue? y/n')\n",
    "    \n",
    "    \n",
    "    \n",
    "# for x in range(1, int(x) + 1):\n",
    "#         print (f' {x} {x ** 2} {x ** 3}')\n",
    "# while keep_going.lower() == 'y':\n",
    "#     x = input('enter number')\n",
    "\n",
    "\n",
    "#     print(f'number | squared | cubed')\n",
    "    \n",
    "    \n",
    "#     for x in range(1, int(x) + 1):\n",
    "#         print (f' {x} {x ** 2} {x ** 3}')\n",
    "#         keep_going = input('Do you wish to continue? y/n')\n",
    "\n",
    "    \n",
    "    \n",
    "\n",
    "\n",
    "\n",
    "\n"
   ]
  },
  {
   "cell_type": "markdown",
   "id": "c6d5d26d",
   "metadata": {},
   "source": [
    "5. Convert given number grades into letter grades."
   ]
  },
  {
   "cell_type": "code",
   "execution_count": 7,
   "id": "b1fed034",
   "metadata": {},
   "outputs": [
    {
     "name": "stdout",
     "output_type": "stream",
     "text": [
      "what is your grade? Enter interger 0 to 10090\n",
      "A\n",
      "Do you wish to continue? y/ny\n",
      "what is your grade? Enter interger 0 to 10060\n",
      "D\n",
      "Do you wish to continue? y/ny\n",
      "what is your grade? Enter interger 0 to 1001\n",
      "F\n",
      "Do you wish to continue? y/nn\n"
     ]
    }
   ],
   "source": [
    "# Prompt the user for a numerical grade from 0 to 100\n",
    "# Display the corresponding letter grade\n",
    "# Prompt the user to continue\n",
    "# Assume that the user will enter valid integers for the grades\n",
    "# The application should only continue if the user agrees to\n",
    "# Grade Ranges:\n",
    "# A : 100 - 88\n",
    "# B : 87 - 80\n",
    "# C : 79 - 67\n",
    "# D : 66 - 60\n",
    "# F : 59 - 0\n",
    "\n",
    "\n",
    "keep_going = 'y'\n",
    "while keep_going.lower() == 'y':\n",
    "    letter_grade = int(input('what is your grade? Enter interger 0 to 100'))\n",
    "\n",
    "    if 100 >= letter_grade >= 88:\n",
    "        print('A')\n",
    "        keep_going = input('Do you wish to continue? y/n')\n",
    "\n",
    "\n",
    "    if 87 >= int(letter_grade) >= 80:\n",
    "        print('B')\n",
    "        keep_going = input('Do you wish to continue? y/n')\n",
    "\n",
    "    if 79 >= int(letter_grade) >= 67:\n",
    "        print('C')\n",
    "        keep_going = input('Do you wish to continue? y/n')\n",
    "\n",
    "    if 66 >= int(letter_grade) >= 60:\n",
    "        print('D')\n",
    "        keep_going = input('Do you wish to continue? y/n')\n",
    "\n",
    "    if 59 >= int(letter_grade) >= 0:\n",
    "        print('F')\n",
    "        keep_going = input('Do you wish to continue? y/n')\n",
    "\n",
    "\n"
   ]
  },
  {
   "cell_type": "markdown",
   "id": "af7e2568",
   "metadata": {},
   "source": [
    "6. Create a list of dictionaries where each dictionary represents a book that you have read. \n",
    "Each dictionary in the list should have the keys title, author, and genre. \n",
    "Loop through the list and print out information about each book."
   ]
  },
  {
   "cell_type": "code",
   "execution_count": 11,
   "id": "24aa1161",
   "metadata": {},
   "outputs": [],
   "source": [
    "# a. Prompt the user to enter a genre, \n",
    "    # then loop through your books list and print out the titles of all the books in that genre.\n",
    "    \n",
    "    \n",
    "books = [\n",
    "    {\n",
    "        \"title\": \"Fahrenheit 451\",\n",
    "        \"genre\": \"Science Fiction\",\n",
    "        \"author\": \"Ray Bradbury\"\n",
    "    },\n",
    "    {\n",
    "        \"title\": \"Gone Girl\",\n",
    "        \"genre\": \"Thriller\",\n",
    "        \"author\": \"Gillian Flynn\"\n",
    "    },\n",
    "    {\n",
    "        \"title\": \"Atlas Shrugged\",\n",
    "        \"genre\": \"Romance\",\n",
    "        \"author\": \"Ayn Rand\"\n",
    "    },\n",
    "    {\n",
    "        \"title\": \"Moneyball\",\n",
    "        \"genre\": \"Non-fiction\",\n",
    "        \"author\": \"Michael Lewis\"\n",
    "    },\n",
    "    {\n",
    "        \"title\": \"Green Eggs and Ham\",\n",
    "        \"genre\": \"Children\",\n",
    "        \"author\": \"Dr. Suess\"\n",
    "    }\n",
    "]\n",
    "    "
   ]
  },
  {
   "cell_type": "code",
   "execution_count": 23,
   "id": "124c69a6",
   "metadata": {},
   "outputs": [
    {
     "name": "stdout",
     "output_type": "stream",
     "text": [
      "enter a genre of books:hdhd\n",
      "No such books in my library.\n"
     ]
    }
   ],
   "source": [
    "genre = input('enter a genre of books:')\n",
    "count =0\n",
    "for x in books:\n",
    "    if genre.lower() == x['genre'].lower():\n",
    "        print(f'One book is: {x}')\n",
    "        count +=1\n",
    "if count == 0:\n",
    "    print(\"No such books in my library.\")"
   ]
  },
  {
   "cell_type": "code",
   "execution_count": null,
   "id": "dceb75aa",
   "metadata": {},
   "outputs": [],
   "source": []
  }
 ],
 "metadata": {
  "kernelspec": {
   "display_name": "Python 3 (ipykernel)",
   "language": "python",
   "name": "python3"
  },
  "language_info": {
   "codemirror_mode": {
    "name": "ipython",
    "version": 3
   },
   "file_extension": ".py",
   "mimetype": "text/x-python",
   "name": "python",
   "nbconvert_exporter": "python",
   "pygments_lexer": "ipython3",
   "version": "3.11.5"
  }
 },
 "nbformat": 4,
 "nbformat_minor": 5
}
