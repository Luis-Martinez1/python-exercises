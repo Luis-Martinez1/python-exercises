{
 "cells": [
  {
   "cell_type": "markdown",
   "id": "92cf8200",
   "metadata": {},
   "source": [
    "Question 1"
   ]
  },
  {
   "cell_type": "markdown",
   "id": "3ad00798",
   "metadata": {},
   "source": [
    "Identify the data type of the following values:"
   ]
  },
  {
   "cell_type": "code",
   "execution_count": 4,
   "id": "299b235a",
   "metadata": {},
   "outputs": [
    {
     "data": {
      "text/plain": [
       "float"
      ]
     },
     "execution_count": 4,
     "metadata": {},
     "output_type": "execute_result"
    }
   ],
   "source": [
    "type(99.9)"
   ]
  },
  {
   "cell_type": "code",
   "execution_count": 5,
   "id": "f9507291",
   "metadata": {},
   "outputs": [
    {
     "data": {
      "text/plain": [
       "str"
      ]
     },
     "execution_count": 5,
     "metadata": {},
     "output_type": "execute_result"
    }
   ],
   "source": [
    "type(\"False\")"
   ]
  },
  {
   "cell_type": "code",
   "execution_count": 6,
   "id": "5da1c1c1",
   "metadata": {},
   "outputs": [
    {
     "data": {
      "text/plain": [
       "bool"
      ]
     },
     "execution_count": 6,
     "metadata": {},
     "output_type": "execute_result"
    }
   ],
   "source": [
    "type(False)"
   ]
  },
  {
   "cell_type": "code",
   "execution_count": 7,
   "id": "47b9af81",
   "metadata": {},
   "outputs": [
    {
     "data": {
      "text/plain": [
       "str"
      ]
     },
     "execution_count": 7,
     "metadata": {},
     "output_type": "execute_result"
    }
   ],
   "source": [
    "type('0')"
   ]
  },
  {
   "cell_type": "code",
   "execution_count": 8,
   "id": "61f7673c",
   "metadata": {},
   "outputs": [
    {
     "data": {
      "text/plain": [
       "int"
      ]
     },
     "execution_count": 8,
     "metadata": {},
     "output_type": "execute_result"
    }
   ],
   "source": [
    "type(0)"
   ]
  },
  {
   "cell_type": "code",
   "execution_count": 9,
   "id": "23da7f71",
   "metadata": {},
   "outputs": [
    {
     "data": {
      "text/plain": [
       "bool"
      ]
     },
     "execution_count": 9,
     "metadata": {},
     "output_type": "execute_result"
    }
   ],
   "source": [
    "type(True)"
   ]
  },
  {
   "cell_type": "code",
   "execution_count": 10,
   "id": "a0ec35e1",
   "metadata": {},
   "outputs": [
    {
     "data": {
      "text/plain": [
       "str"
      ]
     },
     "execution_count": 10,
     "metadata": {},
     "output_type": "execute_result"
    }
   ],
   "source": [
    "type('True')"
   ]
  },
  {
   "cell_type": "code",
   "execution_count": 11,
   "id": "69bdc674",
   "metadata": {},
   "outputs": [
    {
     "data": {
      "text/plain": [
       "list"
      ]
     },
     "execution_count": 11,
     "metadata": {},
     "output_type": "execute_result"
    }
   ],
   "source": [
    "type([{}])"
   ]
  },
  {
   "cell_type": "code",
   "execution_count": 12,
   "id": "96b975d4",
   "metadata": {},
   "outputs": [
    {
     "data": {
      "text/plain": [
       "dict"
      ]
     },
     "execution_count": 12,
     "metadata": {},
     "output_type": "execute_result"
    }
   ],
   "source": [
    "type({'a':[]})"
   ]
  },
  {
   "cell_type": "markdown",
   "id": "498c1fd5",
   "metadata": {},
   "source": [
    "Question 2"
   ]
  },
  {
   "cell_type": "markdown",
   "id": "ce4539f8",
   "metadata": {},
   "source": [
    "What data type would best represent the following?"
   ]
  },
  {
   "cell_type": "code",
   "execution_count": 13,
   "id": "6abd267e",
   "metadata": {},
   "outputs": [],
   "source": [
    "# A term or phrase typed into a search box\n",
    "# String\n",
    "\n",
    "# Whether or not a user is logged in\n",
    "# Boolean\n",
    "\n",
    "# A discount amount to apply to a user's shopping cart\n",
    "# Float\n",
    "\n",
    "#Whether or not a coupon code is valid\n",
    "# Boolean\n",
    "\n",
    "#An email address typed into a registration form\n",
    "#String\n",
    "\n",
    "#The price of a product\n",
    "#Float\n",
    "\n",
    "#The email addresses collected from a registration form\n",
    "#List\n",
    "\n",
    "#Information about applicants to Codeup's data science program\n",
    "#Dictionary"
   ]
  },
  {
   "cell_type": "markdown",
   "id": "d3e76c3a",
   "metadata": {},
   "source": [
    "Question 3\n",
    "\n",
    "Read the expression and predict the evaluated results\n",
    "\n",
    "Execute the expression in a python repl"
   ]
  },
  {
   "cell_type": "code",
   "execution_count": 14,
   "id": "56d7180a",
   "metadata": {},
   "outputs": [
    {
     "ename": "TypeError",
     "evalue": "can only concatenate str (not \"int\") to str",
     "output_type": "error",
     "traceback": [
      "\u001b[0;31m---------------------------------------------------------------------------\u001b[0m",
      "\u001b[0;31mTypeError\u001b[0m                                 Traceback (most recent call last)",
      "Cell \u001b[0;32mIn[14], line 1\u001b[0m\n\u001b[0;32m----> 1\u001b[0m \u001b[38;5;124m'\u001b[39m\u001b[38;5;124m1\u001b[39m\u001b[38;5;124m'\u001b[39m \u001b[38;5;241m+\u001b[39m \u001b[38;5;241m2\u001b[39m\n",
      "\u001b[0;31mTypeError\u001b[0m: can only concatenate str (not \"int\") to str"
     ]
    }
   ],
   "source": [
    "'1' + 2"
   ]
  },
  {
   "cell_type": "code",
   "execution_count": 18,
   "id": "be04800b",
   "metadata": {},
   "outputs": [
    {
     "data": {
      "text/plain": [
       "2"
      ]
     },
     "execution_count": 18,
     "metadata": {},
     "output_type": "execute_result"
    }
   ],
   "source": [
    "6 % 4"
   ]
  },
  {
   "cell_type": "code",
   "execution_count": 19,
   "id": "58a29bfa",
   "metadata": {},
   "outputs": [
    {
     "data": {
      "text/plain": [
       "int"
      ]
     },
     "execution_count": 19,
     "metadata": {},
     "output_type": "execute_result"
    }
   ],
   "source": [
    "type(6 % 4)"
   ]
  },
  {
   "cell_type": "code",
   "execution_count": 20,
   "id": "2cbbeee1",
   "metadata": {},
   "outputs": [
    {
     "data": {
      "text/plain": [
       "type"
      ]
     },
     "execution_count": 20,
     "metadata": {},
     "output_type": "execute_result"
    }
   ],
   "source": [
    "type(type(6 % 4))"
   ]
  },
  {
   "cell_type": "code",
   "execution_count": 21,
   "id": "dc738228",
   "metadata": {},
   "outputs": [
    {
     "ename": "TypeError",
     "evalue": "can only concatenate str (not \"int\") to str",
     "output_type": "error",
     "traceback": [
      "\u001b[0;31m---------------------------------------------------------------------------\u001b[0m",
      "\u001b[0;31mTypeError\u001b[0m                                 Traceback (most recent call last)",
      "Cell \u001b[0;32mIn[21], line 1\u001b[0m\n\u001b[0;32m----> 1\u001b[0m \u001b[38;5;124m'\u001b[39m\u001b[38;5;124m3 + 4 is \u001b[39m\u001b[38;5;124m'\u001b[39m \u001b[38;5;241m+\u001b[39m \u001b[38;5;241m3\u001b[39m \u001b[38;5;241m+\u001b[39m \u001b[38;5;241m4\u001b[39m\n",
      "\u001b[0;31mTypeError\u001b[0m: can only concatenate str (not \"int\") to str"
     ]
    }
   ],
   "source": [
    "'3 + 4 is ' + 3 + 4"
   ]
  },
  {
   "cell_type": "code",
   "execution_count": 22,
   "id": "9b9380c6",
   "metadata": {},
   "outputs": [
    {
     "data": {
      "text/plain": [
       "False"
      ]
     },
     "execution_count": 22,
     "metadata": {},
     "output_type": "execute_result"
    }
   ],
   "source": [
    "0 < 0"
   ]
  },
  {
   "cell_type": "code",
   "execution_count": 23,
   "id": "fd32a25e",
   "metadata": {},
   "outputs": [
    {
     "data": {
      "text/plain": [
       "False"
      ]
     },
     "execution_count": 23,
     "metadata": {},
     "output_type": "execute_result"
    }
   ],
   "source": [
    "'False' == False"
   ]
  },
  {
   "cell_type": "code",
   "execution_count": 24,
   "id": "21220607",
   "metadata": {},
   "outputs": [
    {
     "data": {
      "text/plain": [
       "False"
      ]
     },
     "execution_count": 24,
     "metadata": {},
     "output_type": "execute_result"
    }
   ],
   "source": [
    "True == 'True'"
   ]
  },
  {
   "cell_type": "code",
   "execution_count": 25,
   "id": "f432811d",
   "metadata": {},
   "outputs": [
    {
     "data": {
      "text/plain": [
       "True"
      ]
     },
     "execution_count": 25,
     "metadata": {},
     "output_type": "execute_result"
    }
   ],
   "source": [
    "5 >= -5"
   ]
  },
  {
   "cell_type": "code",
   "execution_count": 26,
   "id": "8bdf5336",
   "metadata": {},
   "outputs": [
    {
     "data": {
      "text/plain": [
       "True"
      ]
     },
     "execution_count": 26,
     "metadata": {},
     "output_type": "execute_result"
    }
   ],
   "source": [
    "True or \"42\""
   ]
  },
  {
   "cell_type": "code",
   "execution_count": 27,
   "id": "35df2180",
   "metadata": {},
   "outputs": [
    {
     "data": {
      "text/plain": [
       "1"
      ]
     },
     "execution_count": 27,
     "metadata": {},
     "output_type": "execute_result"
    }
   ],
   "source": [
    "6 % 5"
   ]
  },
  {
   "cell_type": "code",
   "execution_count": 28,
   "id": "454a3d36",
   "metadata": {},
   "outputs": [
    {
     "data": {
      "text/plain": [
       "False"
      ]
     },
     "execution_count": 28,
     "metadata": {},
     "output_type": "execute_result"
    }
   ],
   "source": [
    "5 < 4 and 1 == 1"
   ]
  },
  {
   "cell_type": "code",
   "execution_count": 29,
   "id": "f8687994",
   "metadata": {},
   "outputs": [
    {
     "data": {
      "text/plain": [
       "False"
      ]
     },
     "execution_count": 29,
     "metadata": {},
     "output_type": "execute_result"
    }
   ],
   "source": [
    "'codeup' == 'codeup' and 'codeup' == 'Codeup'"
   ]
  },
  {
   "cell_type": "code",
   "execution_count": 30,
   "id": "feed9cd8",
   "metadata": {},
   "outputs": [
    {
     "ename": "SyntaxError",
     "evalue": "invalid syntax (383778220.py, line 1)",
     "output_type": "error",
     "traceback": [
      "\u001b[0;36m  Cell \u001b[0;32mIn[30], line 1\u001b[0;36m\u001b[0m\n\u001b[0;31m    4 >= 0 and 1 !== '1'\u001b[0m\n\u001b[0m                   ^\u001b[0m\n\u001b[0;31mSyntaxError\u001b[0m\u001b[0;31m:\u001b[0m invalid syntax\n"
     ]
    }
   ],
   "source": [
    "4 >= 0 and 1 !== '1'"
   ]
  },
  {
   "cell_type": "code",
   "execution_count": 31,
   "id": "5506387b",
   "metadata": {},
   "outputs": [
    {
     "data": {
      "text/plain": [
       "True"
      ]
     },
     "execution_count": 31,
     "metadata": {},
     "output_type": "execute_result"
    }
   ],
   "source": [
    "6 % 3 == 0\n"
   ]
  },
  {
   "cell_type": "code",
   "execution_count": 32,
   "id": "0adc06fb",
   "metadata": {},
   "outputs": [
    {
     "data": {
      "text/plain": [
       "True"
      ]
     },
     "execution_count": 32,
     "metadata": {},
     "output_type": "execute_result"
    }
   ],
   "source": [
    "5 % 2 != 0\n"
   ]
  },
  {
   "cell_type": "code",
   "execution_count": 33,
   "id": "885d96c8",
   "metadata": {},
   "outputs": [
    {
     "ename": "TypeError",
     "evalue": "can only concatenate list (not \"int\") to list",
     "output_type": "error",
     "traceback": [
      "\u001b[0;31m---------------------------------------------------------------------------\u001b[0m",
      "\u001b[0;31mTypeError\u001b[0m                                 Traceback (most recent call last)",
      "Cell \u001b[0;32mIn[33], line 1\u001b[0m\n\u001b[0;32m----> 1\u001b[0m [\u001b[38;5;241m1\u001b[39m] \u001b[38;5;241m+\u001b[39m \u001b[38;5;241m2\u001b[39m\n",
      "\u001b[0;31mTypeError\u001b[0m: can only concatenate list (not \"int\") to list"
     ]
    }
   ],
   "source": [
    "[1] + 2\n"
   ]
  },
  {
   "cell_type": "code",
   "execution_count": 34,
   "id": "e03b80bd",
   "metadata": {},
   "outputs": [
    {
     "data": {
      "text/plain": [
       "[1, 2]"
      ]
     },
     "execution_count": 34,
     "metadata": {},
     "output_type": "execute_result"
    }
   ],
   "source": [
    "[1] + [2]\n"
   ]
  },
  {
   "cell_type": "code",
   "execution_count": 35,
   "id": "c0462559",
   "metadata": {},
   "outputs": [
    {
     "data": {
      "text/plain": [
       "[1, 1]"
      ]
     },
     "execution_count": 35,
     "metadata": {},
     "output_type": "execute_result"
    }
   ],
   "source": [
    "[1] * 2\n"
   ]
  },
  {
   "cell_type": "code",
   "execution_count": 36,
   "id": "e559c5be",
   "metadata": {},
   "outputs": [
    {
     "ename": "TypeError",
     "evalue": "can't multiply sequence by non-int of type 'list'",
     "output_type": "error",
     "traceback": [
      "\u001b[0;31m---------------------------------------------------------------------------\u001b[0m",
      "\u001b[0;31mTypeError\u001b[0m                                 Traceback (most recent call last)",
      "Cell \u001b[0;32mIn[36], line 1\u001b[0m\n\u001b[0;32m----> 1\u001b[0m [\u001b[38;5;241m1\u001b[39m] \u001b[38;5;241m*\u001b[39m [\u001b[38;5;241m2\u001b[39m]\n",
      "\u001b[0;31mTypeError\u001b[0m: can't multiply sequence by non-int of type 'list'"
     ]
    }
   ],
   "source": [
    "[1] * [2]\n"
   ]
  },
  {
   "cell_type": "code",
   "execution_count": 37,
   "id": "51ee01d3",
   "metadata": {},
   "outputs": [
    {
     "data": {
      "text/plain": [
       "True"
      ]
     },
     "execution_count": 37,
     "metadata": {},
     "output_type": "execute_result"
    }
   ],
   "source": [
    "[] + [] == []\n"
   ]
  },
  {
   "cell_type": "code",
   "execution_count": 38,
   "id": "9d7b119f",
   "metadata": {},
   "outputs": [
    {
     "ename": "TypeError",
     "evalue": "unsupported operand type(s) for +: 'dict' and 'dict'",
     "output_type": "error",
     "traceback": [
      "\u001b[0;31m---------------------------------------------------------------------------\u001b[0m",
      "\u001b[0;31mTypeError\u001b[0m                                 Traceback (most recent call last)",
      "Cell \u001b[0;32mIn[38], line 1\u001b[0m\n\u001b[0;32m----> 1\u001b[0m {} \u001b[38;5;241m+\u001b[39m {}\n",
      "\u001b[0;31mTypeError\u001b[0m: unsupported operand type(s) for +: 'dict' and 'dict'"
     ]
    }
   ],
   "source": [
    "{} + {}\n"
   ]
  },
  {
   "cell_type": "markdown",
   "id": "628847ba",
   "metadata": {},
   "source": [
    "### Describe the following scenarios. You will need to create and assign variables and use operators."
   ]
  },
  {
   "cell_type": "markdown",
   "id": "e44e57ce",
   "metadata": {},
   "source": [
    "4. You have rented some movies for your kids:"
   ]
  },
  {
   "cell_type": "markdown",
   "id": "b2e58e83",
   "metadata": {},
   "source": [
    "The Little Mermaid for 3 days"
   ]
  },
  {
   "cell_type": "markdown",
   "id": "8a23c45e",
   "metadata": {},
   "source": [
    "Brother Bear for 5 days"
   ]
  },
  {
   "cell_type": "markdown",
   "id": "a8c5cfb0",
   "metadata": {},
   "source": [
    "Hercules for 1 day"
   ]
  },
  {
   "cell_type": "markdown",
   "id": "862996cb",
   "metadata": {},
   "source": [
    "If the daily fee to rent a movie is 3 dollars, how much will you have to pay?"
   ]
  },
  {
   "cell_type": "code",
   "execution_count": 5,
   "id": "944499c6",
   "metadata": {},
   "outputs": [],
   "source": [
    "x = 3\n",
    "little_mermaid = 3\n",
    "brother_bear = 5\n",
    "hercules = 1"
   ]
  },
  {
   "cell_type": "code",
   "execution_count": 6,
   "id": "567bd761",
   "metadata": {},
   "outputs": [
    {
     "name": "stdout",
     "output_type": "stream",
     "text": [
      "27\n"
     ]
    }
   ],
   "source": [
    "total_cost = (x * little_mermaid) + (x * brother_bear) + (x * hercules)\n",
    "print(total_cost)"
   ]
  },
  {
   "cell_type": "markdown",
   "id": "6f5af207",
   "metadata": {},
   "source": [
    "5. Suppose you're working as a contractor for 3 companies: Google, Amazon and Facebook."
   ]
  },
  {
   "cell_type": "markdown",
   "id": "8cbfcb81",
   "metadata": {},
   "source": [
    "They pay you the following hourly rates:"
   ]
  },
  {
   "cell_type": "markdown",
   "id": "6b1ecad0",
   "metadata": {},
   "source": [
    "Google: 400 dollars"
   ]
  },
  {
   "cell_type": "markdown",
   "id": "8d849f86",
   "metadata": {},
   "source": [
    "Amazon: 380 dollars"
   ]
  },
  {
   "cell_type": "markdown",
   "id": "0ecfae83",
   "metadata": {},
   "source": [
    "Facebook: 350 dollars"
   ]
  },
  {
   "cell_type": "markdown",
   "id": "d3c97ccc",
   "metadata": {},
   "source": [
    "This week you worked: 10 hours for Facebook, 6 hours for Google, and 4 hours for Amazon."
   ]
  },
  {
   "cell_type": "markdown",
   "id": "6b2f3e3e",
   "metadata": {},
   "source": [
    "How much will you receive in payment for this week?"
   ]
  },
  {
   "cell_type": "code",
   "execution_count": 9,
   "id": "891b6bef",
   "metadata": {},
   "outputs": [],
   "source": [
    "google_rate = 400\n",
    "amazon_rate = 380\n",
    "facebook_rate = 350\n",
    "\n",
    "google_hours = 6\n",
    "amazon_hours = 4\n",
    "facebook_hours = 10"
   ]
  },
  {
   "cell_type": "code",
   "execution_count": 10,
   "id": "10a588e7",
   "metadata": {},
   "outputs": [
    {
     "name": "stdout",
     "output_type": "stream",
     "text": [
      "7420\n"
     ]
    }
   ],
   "source": [
    "total_pay = (google_rate * google_hours) + (amazon_rate * amazon_hours) + (facebook_rate * facebook_hours)\n",
    "print(total_pay)"
   ]
  },
  {
   "cell_type": "markdown",
   "id": "40b3387b",
   "metadata": {},
   "source": [
    "6. A student can be enrolled in a class only if the class is not full and the class schedule does not conflict with her current schedule."
   ]
  },
  {
   "cell_type": "code",
   "execution_count": 11,
   "id": "b2aed1d8",
   "metadata": {},
   "outputs": [
    {
     "name": "stdout",
     "output_type": "stream",
     "text": [
      "True\n"
     ]
    }
   ],
   "source": [
    "class_not_full = True\n",
    "no_schedule_conflict = True\n",
    "enrolled = class_not_full and no_schedule_conflict\n",
    "print(enrolled)"
   ]
  },
  {
   "cell_type": "markdown",
   "id": "d4a8eb46",
   "metadata": {},
   "source": [
    "7. A product offer can be applied only if a customer buys more than 2 items, and the offer has not expired. Premium members do not need to buy a specific amount of products."
   ]
  },
  {
   "cell_type": "code",
   "execution_count": 12,
   "id": "fd809b43",
   "metadata": {},
   "outputs": [
    {
     "name": "stdout",
     "output_type": "stream",
     "text": [
      "True\n"
     ]
    }
   ],
   "source": [
    "more_than_two = True\n",
    "not_expired = True\n",
    "premium_member = True\n",
    "apply_offer = not_expired and (more_than_two or premium_member)\n",
    "print(apply_offer)"
   ]
  },
  {
   "cell_type": "markdown",
   "id": "4f806e05",
   "metadata": {},
   "source": [
    "8. Use the following code to follow the instructions below:"
   ]
  },
  {
   "cell_type": "code",
   "execution_count": 4,
   "id": "805076a1",
   "metadata": {},
   "outputs": [],
   "source": [
    "username = 'codeup'\n",
    "password = 'notastrongpassword'"
   ]
  },
  {
   "cell_type": "markdown",
   "id": "06de119a",
   "metadata": {},
   "source": [
    "Create a variable that holds a boolean value for each of the following conditions:"
   ]
  },
  {
   "cell_type": "code",
   "execution_count": 5,
   "id": "9f381b10",
   "metadata": {},
   "outputs": [
    {
     "name": "stdout",
     "output_type": "stream",
     "text": [
      "True\n"
     ]
    }
   ],
   "source": [
    "# The password must be at least 5 characters\n",
    "password_lenght = len(\"password\") >= 5\n",
    "print(password_lenght)"
   ]
  },
  {
   "cell_type": "code",
   "execution_count": 6,
   "id": "219b2c13",
   "metadata": {},
   "outputs": [
    {
     "name": "stdout",
     "output_type": "stream",
     "text": [
      "True\n"
     ]
    }
   ],
   "source": [
    "# The username must be no more than 20 characters\n",
    "username_lenght = len(\"username\") <=20\n",
    "print(username_lenght)"
   ]
  },
  {
   "cell_type": "code",
   "execution_count": 7,
   "id": "0fd5e4f3",
   "metadata": {},
   "outputs": [
    {
     "name": "stdout",
     "output_type": "stream",
     "text": [
      "True\n"
     ]
    }
   ],
   "source": [
    "# The password must not be the same as the username\n",
    "diff_password_username = \"password\" != \"username\"\n",
    "print(diff_password_username)"
   ]
  },
  {
   "cell_type": "code",
   "execution_count": 10,
   "id": "00864058",
   "metadata": {},
   "outputs": [],
   "source": [
    "# Bonus Neither the username or password can start nor end with whitespace\n",
    "whitespace_password = len(password) == len(password.strip())\n",
    "whitespace_username = len(username) == len(username.strip())"
   ]
  },
  {
   "cell_type": "code",
   "execution_count": 11,
   "id": "4359f71a",
   "metadata": {},
   "outputs": [
    {
     "data": {
      "text/plain": [
       "True"
      ]
     },
     "execution_count": 11,
     "metadata": {},
     "output_type": "execute_result"
    }
   ],
   "source": [
    "whitespace_password and whitespace_username"
   ]
  },
  {
   "cell_type": "code",
   "execution_count": 12,
   "id": "d41bb2b2",
   "metadata": {},
   "outputs": [
    {
     "data": {
      "text/plain": [
       "True"
      ]
     },
     "execution_count": 12,
     "metadata": {},
     "output_type": "execute_result"
    }
   ],
   "source": [
    "password_lenght and username_lenght and whitespace_password and whitespace_username "
   ]
  },
  {
   "cell_type": "code",
   "execution_count": null,
   "id": "e737abb5",
   "metadata": {},
   "outputs": [],
   "source": []
  }
 ],
 "metadata": {
  "kernelspec": {
   "display_name": "Python 3 (ipykernel)",
   "language": "python",
   "name": "python3"
  },
  "language_info": {
   "codemirror_mode": {
    "name": "ipython",
    "version": 3
   },
   "file_extension": ".py",
   "mimetype": "text/x-python",
   "name": "python",
   "nbconvert_exporter": "python",
   "pygments_lexer": "ipython3",
   "version": "3.11.5"
  }
 },
 "nbformat": 4,
 "nbformat_minor": 5
}
