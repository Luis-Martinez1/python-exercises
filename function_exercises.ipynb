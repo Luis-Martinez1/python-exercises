{
 "cells": [
  {
   "cell_type": "code",
   "execution_count": 13,
   "id": "77861890",
   "metadata": {},
   "outputs": [],
   "source": [
    "# 1. Define a function named is_two. It should accept one input and return True if the \n",
    "# passed input is either the number or the string 2, False otherwise.\n",
    "\n",
    "\n",
    "def is_two(x):\n",
    "    if x in (2, '2', 2.0):\n",
    "        return True\n",
    "    else:\n",
    "        return False\n",
    "\n"
   ]
  },
  {
   "cell_type": "code",
   "execution_count": 15,
   "id": "78a3bc29",
   "metadata": {},
   "outputs": [
    {
     "data": {
      "text/plain": [
       "False"
      ]
     },
     "execution_count": 15,
     "metadata": {},
     "output_type": "execute_result"
    }
   ],
   "source": [
    "is_two(82)"
   ]
  },
  {
   "cell_type": "code",
   "execution_count": 21,
   "id": "b79b841b",
   "metadata": {},
   "outputs": [],
   "source": [
    "# 2. Define a function named is_vowel. \n",
    "# It should return True if the passed string is a vowel, False otherwise.\n",
    "\n",
    "\n",
    "\n",
    "\n",
    "\n",
    "def is_vowel(x):\n",
    "    if type(x) == str:\n",
    "        if len(x) == 1 and x.isalpha():\n",
    "            return x.lower() in ('aeiou')\n",
    "        else:\n",
    "            return False\n",
    "    else: return False\n",
    "    \n",
    "    \n",
    "    \n"
   ]
  },
  {
   "cell_type": "code",
   "execution_count": 29,
   "id": "1957d888",
   "metadata": {},
   "outputs": [
    {
     "data": {
      "text/plain": [
       "False"
      ]
     },
     "execution_count": 29,
     "metadata": {},
     "output_type": "execute_result"
    }
   ],
   "source": [
    "is_vowel('eeee')"
   ]
  },
  {
   "cell_type": "code",
   "execution_count": 53,
   "id": "dd398d6a",
   "metadata": {},
   "outputs": [],
   "source": [
    "# 3. Define a function named is_consonant. It should return True if the passed string is a consonant, \n",
    "# False otherwise. Use your is_vowel function to accomplish this.\n",
    "\n",
    "def is_consonant(y):\n",
    "    if type(y) == str:\n",
    "        if len(y) == 1 and y.isalpha():\n",
    "            return not is_vowel(y)\n",
    "        else:\n",
    "            return False\n",
    "    else:\n",
    "        return False\n",
    "    \n"
   ]
  },
  {
   "cell_type": "code",
   "execution_count": 59,
   "id": "f0871baf",
   "metadata": {},
   "outputs": [
    {
     "data": {
      "text/plain": [
       "True"
      ]
     },
     "execution_count": 59,
     "metadata": {},
     "output_type": "execute_result"
    }
   ],
   "source": [
    "is_consonant('W')"
   ]
  },
  {
   "cell_type": "code",
   "execution_count": 64,
   "id": "8e7df036",
   "metadata": {},
   "outputs": [],
   "source": [
    "# 4. Define a function that accepts a string that is a word. \n",
    "# The function should capitalize the first letter of the word if the word starts with a consonant.\n",
    "\n",
    "def cap_consonant(word):\n",
    "    first_letter = word[0]\n",
    "    if type(word) == str:\n",
    "        if is_consonant(first_letter):\n",
    "            return word.capitalize()\n",
    "        else:\n",
    "            return (f\"{word} does not start with a consonant\")\n",
    "    else:\n",
    "        return (F\"{word} is not a string\")\n",
    "    \n",
    "    "
   ]
  },
  {
   "cell_type": "code",
   "execution_count": 66,
   "id": "16624f86",
   "metadata": {},
   "outputs": [
    {
     "data": {
      "text/plain": [
       "'Duck'"
      ]
     },
     "execution_count": 66,
     "metadata": {},
     "output_type": "execute_result"
    }
   ],
   "source": [
    "cap_consonant('duck')"
   ]
  },
  {
   "cell_type": "code",
   "execution_count": 67,
   "id": "9919d7e8",
   "metadata": {},
   "outputs": [],
   "source": [
    "# 5. Define a function named calculate_tip. It should accept a tip percentage \n",
    "# (a number between 0 and 1) and the bill total, and return the amount to tip.\n",
    "\n",
    "\n",
    "def calculate_tip(tip_percentage, bill):\n",
    "    \n",
    "    total = float(tip_percentage) * float(bill)\n",
    "    return total\n",
    "\n"
   ]
  },
  {
   "cell_type": "code",
   "execution_count": 75,
   "id": "443c9121",
   "metadata": {},
   "outputs": [
    {
     "data": {
      "text/plain": [
       "30.0"
      ]
     },
     "execution_count": 75,
     "metadata": {},
     "output_type": "execute_result"
    }
   ],
   "source": [
    "calculate_tip(.3, 100)"
   ]
  },
  {
   "cell_type": "code",
   "execution_count": 81,
   "id": "e4d30970",
   "metadata": {},
   "outputs": [],
   "source": [
    "# 6. Define a function named apply_discount. It should accept a original price, \n",
    "# and a discount percentage, and return the price after the discount is applied.\n",
    "\n",
    "def apply_discount(discount_percent, original_price):\n",
    "    new_pice = (original_price - (float(discount_percent/100) * float(original_price)))\n",
    "    return new_pice\n",
    "\n"
   ]
  },
  {
   "cell_type": "code",
   "execution_count": 82,
   "id": "8dbadad9",
   "metadata": {},
   "outputs": [
    {
     "data": {
      "text/plain": [
       "96.0"
      ]
     },
     "execution_count": 82,
     "metadata": {},
     "output_type": "execute_result"
    }
   ],
   "source": [
    "apply_discount(20, 120)"
   ]
  },
  {
   "cell_type": "code",
   "execution_count": 91,
   "id": "7120e31b",
   "metadata": {},
   "outputs": [],
   "source": [
    "# 7. Define a function named handle_commas. It should accept a string that is a \n",
    "# number that contains commas in it as input, and return a number as output.\n",
    "\n",
    "def handle_commas(number):\n",
    "    if type(number) == str:\n",
    "        new_number = number.replace(\",\", \"\")\n",
    "        if new_number.isdigit():\n",
    "            return int(new_number)\n",
    "        else:\n",
    "            return False\n",
    "    else:\n",
    "        return False\n",
    "        "
   ]
  },
  {
   "cell_type": "code",
   "execution_count": 92,
   "id": "8df748d4",
   "metadata": {},
   "outputs": [
    {
     "data": {
      "text/plain": [
       "3000"
      ]
     },
     "execution_count": 92,
     "metadata": {},
     "output_type": "execute_result"
    }
   ],
   "source": [
    "handle_commas('3,000')"
   ]
  },
  {
   "cell_type": "code",
   "execution_count": 100,
   "id": "96cb67e7",
   "metadata": {},
   "outputs": [],
   "source": [
    "# 8. Define a function named get_letter_grade. It should accept a number \n",
    "#    and return the letter grade associated with that number (A-F).\n",
    "\n",
    "'''\n",
    "dont asume the user is putting in the correct type\n",
    "check for int as an input.\n",
    "\n",
    "'''\n",
    "\n",
    "def get_letter_grade(grade):\n",
    "    if type(grade) == int:\n",
    "        if grade >= 90:\n",
    "            return print('A')\n",
    "        elif grade >= 80:\n",
    "            return print('B')\n",
    "        elif grade >= 70:\n",
    "            return print('C')\n",
    "        elif grade >= 60:\n",
    "            return print('D')\n",
    "        else:\n",
    "            return print('F')\n",
    "    else:\n",
    "        return print('please enter a number')\n",
    "\n"
   ]
  },
  {
   "cell_type": "code",
   "execution_count": 101,
   "id": "6f305464",
   "metadata": {},
   "outputs": [
    {
     "name": "stdout",
     "output_type": "stream",
     "text": [
      "please enter a number\n"
     ]
    }
   ],
   "source": [
    "get_letter_grade('sdaf')"
   ]
  },
  {
   "cell_type": "code",
   "execution_count": 107,
   "id": "9f5b4a76",
   "metadata": {},
   "outputs": [],
   "source": [
    "# 9. Define a function named remove_vowels that accepts a string and \n",
    "#     returns a string with all the vowels removed.\n",
    "\n",
    "\n",
    "'''\n",
    "use adding to remove\n",
    "and you can use previous vowel def function\n",
    "\n",
    "# remove vowel function takes a string and returns the string with all vowels removed\n",
    "def remove_vowels(string):\n",
    "    # vowels varaible defined as a list\n",
    "    vowels = ['a','e','i','o','u']\n",
    "    # list comprehension to make a new list with letters in string that are not in the vowel list\n",
    "    # x is the iterator variable\n",
    "    result = [x for x in string if x.lower() not in vowels]\n",
    "    # join function turns list into string and joins with no space\n",
    "    result = ''.join(result)\n",
    "    return (result)\n",
    "    \n",
    "'''\n",
    "def remove_vowels(string):\n",
    "    new_word = \"\"\n",
    "    for letter in string:\n",
    "        if not is_vowel(letter):\n",
    "            new_word +=letter\n",
    "        else:\n",
    "            pass\n",
    "    return new_word\n",
    "\n",
    "\n"
   ]
  },
  {
   "cell_type": "code",
   "execution_count": 108,
   "id": "02c33cc2",
   "metadata": {},
   "outputs": [
    {
     "data": {
      "text/plain": [
       "'cttt'"
      ]
     },
     "execution_count": 108,
     "metadata": {},
     "output_type": "execute_result"
    }
   ],
   "source": [
    "remove_vowels('catatat')"
   ]
  },
  {
   "cell_type": "code",
   "execution_count": 112,
   "id": "19ef1cba",
   "metadata": {},
   "outputs": [],
   "source": [
    "# 10.\n",
    "\n",
    "'''\n",
    "Define a function named normalize_name. It should accept a string and return a valid python identifier, \n",
    "that is: \n",
    "- anything that is not a valid python identifier should be removed\n",
    "- leading and trailing whitespace should be removed\n",
    "- everything should be lowercase\n",
    "- spaces should be replaced with underscores\n",
    "\n",
    "for example:\n",
    "Name will become name\n",
    "First Name will become first_name\n",
    "% Completed will become completed\n",
    "\n",
    "\n",
    "'''\n",
    "\n",
    "\n",
    "def normalize_name(string):\n",
    "    new_string = \"\"\n",
    "    string = string.strip().lower()\n",
    "    for char in string:\n",
    "        if char.isalpha() or char == ' ':\n",
    "            new_string += char\n",
    "        else:\n",
    "            pass\n",
    "    return new_string.strip().replace(\" \", \"_\")\n"
   ]
  },
  {
   "cell_type": "code",
   "execution_count": 114,
   "id": "656c23e9",
   "metadata": {},
   "outputs": [
    {
     "data": {
      "text/plain": [
       "'kjsdf__shdff_dsadsf'"
      ]
     },
     "execution_count": 114,
     "metadata": {},
     "output_type": "execute_result"
    }
   ],
   "source": [
    "normalize_name('   09999kjsdf  shdf&&&&098f dsADSF')"
   ]
  },
  {
   "cell_type": "code",
   "execution_count": 122,
   "id": "22e25ba7",
   "metadata": {},
   "outputs": [],
   "source": [
    "# 11. Write a function named cumulative_sum that accepts a list of numbers and \n",
    "# returns a list that is the cumulative sum of the numbers in the list.\n",
    "# cumulative_sum([1, 1, 1]) returns [1, 2, 3]\n",
    "# cumulative_sum([1, 2, 3, 4]) returns [1, 3, 6, 10]\n",
    "'''\n",
    "adding to remove\n",
    "'''\n",
    "\n",
    "def cumulative_sum(a):\n",
    "    new_list=[]\n",
    "    cum_sum=0\n",
    "    for num in a:\n",
    "        cum_sum+=num\n",
    "        new_list.append(cum_sum)\n",
    "    return f\"newlist: {new_list}\"\n",
    "\n"
   ]
  },
  {
   "cell_type": "code",
   "execution_count": 123,
   "id": "6e1df1fd",
   "metadata": {},
   "outputs": [
    {
     "data": {
      "text/plain": [
       "'newlist: [2, 4, 7]'"
      ]
     },
     "execution_count": 123,
     "metadata": {},
     "output_type": "execute_result"
    }
   ],
   "source": [
    "cumulative_sum([2, 2, 3])"
   ]
  },
  {
   "cell_type": "code",
   "execution_count": null,
   "id": "ba0039d7",
   "metadata": {},
   "outputs": [],
   "source": []
  }
 ],
 "metadata": {
  "kernelspec": {
   "display_name": "Python 3 (ipykernel)",
   "language": "python",
   "name": "python3"
  },
  "language_info": {
   "codemirror_mode": {
    "name": "ipython",
    "version": 3
   },
   "file_extension": ".py",
   "mimetype": "text/x-python",
   "name": "python",
   "nbconvert_exporter": "python",
   "pygments_lexer": "ipython3",
   "version": "3.11.5"
  }
 },
 "nbformat": 4,
 "nbformat_minor": 5
}
