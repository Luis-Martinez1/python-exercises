{
 "cells": [
  {
   "cell_type": "code",
   "execution_count": 1,
   "id": "77861890",
   "metadata": {},
   "outputs": [],
   "source": [
    "# 1. Define a function named is_two. It should accept one input and return True if the \n",
    "# passed input is either the number or the string 2, False otherwise.\n",
    "\n",
    "def is_two(x):\n",
    "    return x == 2\n",
    "'''\n",
    "\n",
    "work out function before trying to define function\n",
    "you have to account for string '2' \n",
    "\n",
    "\n",
    "''' \n"
   ]
  },
  {
   "cell_type": "code",
   "execution_count": 3,
   "id": "78a3bc29",
   "metadata": {},
   "outputs": [
    {
     "data": {
      "text/plain": [
       "False"
      ]
     },
     "execution_count": 3,
     "metadata": {},
     "output_type": "execute_result"
    }
   ],
   "source": [
    "is_two(24)"
   ]
  },
  {
   "cell_type": "code",
   "execution_count": 8,
   "id": "b79b841b",
   "metadata": {},
   "outputs": [],
   "source": [
    "# 2. Define a function named is_vowel. \n",
    "# It should return True if the passed string is a vowel, False otherwise.\n",
    "\n",
    "def is_vowel(x):\n",
    "    if x.lower() in [\"a\", \"e\", \"i\", \"o\", \"u\"]:\n",
    "        return True\n",
    "    else:\n",
    "        return False\n",
    "    \n",
    "'''\n",
    "you didnt do a string, you need to\n",
    "have it take in a string not just\n",
    "a single character\n",
    "def\n",
    "    if string = is it a str\n",
    "        if string = look at string one letter at a time using len()\n",
    "            return string lowercase in list of vowels\n",
    "\n",
    "        else return false\n",
    "    else return false\n",
    "use elses to give the if an alternative state. \n",
    "'''"
   ]
  },
  {
   "cell_type": "code",
   "execution_count": 14,
   "id": "1957d888",
   "metadata": {},
   "outputs": [
    {
     "data": {
      "text/plain": [
       "True"
      ]
     },
     "execution_count": 14,
     "metadata": {},
     "output_type": "execute_result"
    }
   ],
   "source": [
    "is_vowel('o')"
   ]
  },
  {
   "cell_type": "code",
   "execution_count": 21,
   "id": "dd398d6a",
   "metadata": {},
   "outputs": [],
   "source": [
    "# 3. Define a function named is_consonant. It should return True if the passed string is a consonant, \n",
    "# False otherwise. Use your is_vowel function to accomplish this.\n",
    "\n",
    "def is_consonant(y):\n",
    "    return not is_vowel(y)\n",
    "\n"
   ]
  },
  {
   "cell_type": "code",
   "execution_count": 29,
   "id": "f0871baf",
   "metadata": {},
   "outputs": [
    {
     "data": {
      "text/plain": [
       "True"
      ]
     },
     "execution_count": 29,
     "metadata": {},
     "output_type": "execute_result"
    }
   ],
   "source": [
    "is_consonant('q')"
   ]
  },
  {
   "cell_type": "code",
   "execution_count": 56,
   "id": "8e7df036",
   "metadata": {},
   "outputs": [],
   "source": [
    "# 4. Define a function that accepts a string that is a word. \n",
    "# The function should capitalize the first letter of the word if the word starts with a consonant.\n",
    "\n",
    "def cap_consonant(word):\n",
    "    first_letter = word[0]\n",
    "    if type(word) != str:\n",
    "        return False\n",
    "    if is_consonant(first_letter):\n",
    "        return word.capitalize()\n",
    "    else:\n",
    "        return print('Word does not start with a consonant')\n",
    "    \n",
    "    \n",
    "    "
   ]
  },
  {
   "cell_type": "code",
   "execution_count": 57,
   "id": "16624f86",
   "metadata": {},
   "outputs": [
    {
     "name": "stdout",
     "output_type": "stream",
     "text": [
      "Word does not start with a consonant\n"
     ]
    }
   ],
   "source": [
    "cap_consonant('ouck')"
   ]
  },
  {
   "cell_type": "code",
   "execution_count": 60,
   "id": "9919d7e8",
   "metadata": {},
   "outputs": [],
   "source": [
    "# 5. Define a function named calculate_tip. It should accept a tip percentage \n",
    "# (a number between 0 and 1) and the bill total, and return the amount to tip.\n",
    "\n",
    "\n",
    "def calculate_tip(tip_percentage, bill_total):\n",
    "    \n",
    "    total = float(tip_percentage) * float(bill_total)\n",
    "    return total\n",
    "\n"
   ]
  },
  {
   "cell_type": "code",
   "execution_count": 61,
   "id": "443c9121",
   "metadata": {},
   "outputs": [
    {
     "data": {
      "text/plain": [
       "90.0"
      ]
     },
     "execution_count": 61,
     "metadata": {},
     "output_type": "execute_result"
    }
   ],
   "source": [
    "calculate_tip(.3, 300)"
   ]
  },
  {
   "cell_type": "code",
   "execution_count": 66,
   "id": "e4d30970",
   "metadata": {},
   "outputs": [],
   "source": [
    "# 6. Define a function named apply_discount. It should accept a original price, \n",
    "# and a discount percentage, and return the price after the discount is applied.\n",
    "\n",
    "def apply_discount(discount_percent, original_price):\n",
    "    new_pice = (original_price - (float(discount_percent/100) * float(original_price)))\n",
    "    return new_pice\n",
    "\n"
   ]
  },
  {
   "cell_type": "code",
   "execution_count": 67,
   "id": "8dbadad9",
   "metadata": {},
   "outputs": [
    {
     "data": {
      "text/plain": [
       "210.0"
      ]
     },
     "execution_count": 67,
     "metadata": {},
     "output_type": "execute_result"
    }
   ],
   "source": [
    "apply_discount(30, 300)"
   ]
  },
  {
   "cell_type": "code",
   "execution_count": 70,
   "id": "7120e31b",
   "metadata": {},
   "outputs": [],
   "source": [
    "# 7. Define a function named handle_commas. It should accept a string that is a \n",
    "# number that contains commas in it as input, and return a number as output.\n",
    "\n",
    "def handle_commas(number):\n",
    "    new_num = str(number)\n",
    "    new_num = int(new_num.replace(\",\", \"\"))\n",
    "    return new_num\n"
   ]
  },
  {
   "cell_type": "code",
   "execution_count": 72,
   "id": "8df748d4",
   "metadata": {},
   "outputs": [
    {
     "data": {
      "text/plain": [
       "3000"
      ]
     },
     "execution_count": 72,
     "metadata": {},
     "output_type": "execute_result"
    }
   ],
   "source": [
    "handle_commas('3,000')"
   ]
  },
  {
   "cell_type": "code",
   "execution_count": 74,
   "id": "96cb67e7",
   "metadata": {},
   "outputs": [],
   "source": [
    "# 8. Define a function named get_letter_grade. It should accept a number \n",
    "#    and return the letter grade associated with that number (A-F).\n",
    "\n",
    "'''\n",
    "dont asume the user is putting in the correct type\n",
    "check for int as an input.\n",
    "\n",
    "'''\n",
    "\n",
    "def get_letter_grade(grade):\n",
    "    if 100 >= int(grade) >= 88:\n",
    "        return print('A')\n",
    "\n",
    "    elif 87 >= int(grade) >= 80:\n",
    "        return print('B')\n",
    "\n",
    "    elif 79 >= int(grade) >= 67:\n",
    "        return print('C')\n",
    "\n",
    "    elif 66 >= int(grade) >= 60:\n",
    "        return print('D')\n",
    "\n",
    "    elif 59 >= int(grade) >= 0:\n",
    "        return print('F')\n",
    "    else:\n",
    "        return print('please enter a number between 0 and 100')\n",
    "\n"
   ]
  },
  {
   "cell_type": "code",
   "execution_count": 77,
   "id": "6f305464",
   "metadata": {},
   "outputs": [
    {
     "name": "stdout",
     "output_type": "stream",
     "text": [
      "F\n"
     ]
    }
   ],
   "source": [
    "get_letter_grade(1)"
   ]
  },
  {
   "cell_type": "code",
   "execution_count": 164,
   "id": "9f5b4a76",
   "metadata": {},
   "outputs": [],
   "source": [
    "# 9. Define a function named remove_vowels that accepts a string and \n",
    "#     returns a string with all the vowels removed.\n",
    "\n",
    "\n",
    "'''\n",
    "use adding to remove\n",
    "and you can use previous vowel def function\n",
    "\n",
    "\n",
    "'''\n",
    "\n",
    "# remove vowel function takes a string and returns the string with all vowels removed\n",
    "def remove_vowels(string):\n",
    "    # vowels varaible defined as a list\n",
    "    vowels = ['a','e','i','o','u']\n",
    "    # list comprehension to make a new list with letters in string that are not in the vowel list\n",
    "    # x is the iterator variable\n",
    "    result = [x for x in string if x.lower() not in vowels]\n",
    "    # join function turns list into string and joins with no space\n",
    "    result = ''.join(result)\n",
    "    return (result)\n",
    "\n"
   ]
  },
  {
   "cell_type": "code",
   "execution_count": 165,
   "id": "02c33cc2",
   "metadata": {},
   "outputs": [
    {
     "data": {
      "text/plain": [
       "'cttt'"
      ]
     },
     "execution_count": 165,
     "metadata": {},
     "output_type": "execute_result"
    }
   ],
   "source": [
    "remove_vowels('catatat')"
   ]
  },
  {
   "cell_type": "code",
   "execution_count": 29,
   "id": "19ef1cba",
   "metadata": {},
   "outputs": [],
   "source": [
    "# 10.\n",
    "\n",
    "'''\n",
    "Define a function named normalize_name. It should accept a string and return a valid python identifier, \n",
    "that is: \n",
    "- anything that is not a valid python identifier should be removed\n",
    "- leading and trailing whitespace should be removed\n",
    "- everything should be lowercase\n",
    "- spaces should be replaced with underscores\n",
    "\n",
    "for example:\n",
    "Name will become name\n",
    "First Name will become first_name\n",
    "% Completed will become completed\n",
    "'''\n",
    "\n",
    "\n",
    "'''\n",
    "order matters, \n",
    "if you start with the underscore constraint first\n",
    "it will output '_______word'\n",
    "\n",
    "\n",
    "'''\n",
    "\n",
    "\n",
    "def normalize_name(string):\n",
    "    \"\"\"\n",
    "    Accept a string and return a valid python identifier\n",
    "    \"\"\"\n",
    "    # remove any leading or trailing spaces replace space with _, and lowercase the string\n",
    "    string = string.strip().replace(\" \", \"_\").lower()\n",
    "    #remove all the symbols\n",
    "    new_string = \"\"\n",
    "    for letter in string:\n",
    "        if letter.isalnum() or letter == \"_\":\n",
    "            new_string = new_string + letter\n",
    "    # remove all the numbers in the beggining of the string\n",
    "    for letter in range (len(new_string)):\n",
    "        if not new_string[0].isalpha():\n",
    "            new_string = new_string[1:]\n",
    "    if new_string == \"\":\n",
    "        return print(\" You entered an invalid python identifier\")\n",
    "    else:\n",
    "        return new_string\n",
    "\n",
    "\n",
    "\n"
   ]
  },
  {
   "cell_type": "code",
   "execution_count": 180,
   "id": "656c23e9",
   "metadata": {},
   "outputs": [
    {
     "data": {
      "text/plain": [
       "'kjsdf__shdf098f_dsadsf'"
      ]
     },
     "execution_count": 180,
     "metadata": {},
     "output_type": "execute_result"
    }
   ],
   "source": [
    "normalize_name('09999kjsdf  shdf&&&&098f dsADSF')"
   ]
  },
  {
   "cell_type": "code",
   "execution_count": 175,
   "id": "22e25ba7",
   "metadata": {},
   "outputs": [],
   "source": [
    "# 11. Write a function named cumulative_sum that accepts a list of numbers and \n",
    "# returns a list that is the cumulative sum of the numbers in the list.\n",
    "# cumulative_sum([1, 1, 1]) returns [1, 2, 3]\n",
    "# cumulative_sum([1, 2, 3, 4]) returns [1, 3, 6, 10]\n",
    "\n",
    "a = [1, 2, 3, 4]\n",
    "def cumulative_sum(a):\n",
    "    b = [sum(a[0:x]) for x in range(1, len(a)+1)]\n",
    "    return (b)\n",
    "\n"
   ]
  },
  {
   "cell_type": "code",
   "execution_count": 176,
   "id": "6e1df1fd",
   "metadata": {},
   "outputs": [
    {
     "data": {
      "text/plain": [
       "[1, 3, 6, 10]"
      ]
     },
     "execution_count": 176,
     "metadata": {},
     "output_type": "execute_result"
    }
   ],
   "source": [
    "cumulative_sum(a)"
   ]
  },
  {
   "cell_type": "code",
   "execution_count": null,
   "id": "ba0039d7",
   "metadata": {},
   "outputs": [],
   "source": []
  }
 ],
 "metadata": {
  "kernelspec": {
   "display_name": "Python 3 (ipykernel)",
   "language": "python",
   "name": "python3"
  },
  "language_info": {
   "codemirror_mode": {
    "name": "ipython",
    "version": 3
   },
   "file_extension": ".py",
   "mimetype": "text/x-python",
   "name": "python",
   "nbconvert_exporter": "python",
   "pygments_lexer": "ipython3",
   "version": "3.11.5"
  }
 },
 "nbformat": 4,
 "nbformat_minor": 5
}
