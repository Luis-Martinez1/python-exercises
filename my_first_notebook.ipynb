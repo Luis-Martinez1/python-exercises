{
 "cells": [
  {
   "cell_type": "code",
   "execution_count": 5,
   "id": "1ea700ee",
   "metadata": {},
   "outputs": [
    {
     "data": {
      "text/plain": [
       "2"
      ]
     },
     "execution_count": 5,
     "metadata": {},
     "output_type": "execute_result"
    }
   ],
   "source": [
    "1 * 2"
   ]
  },
  {
   "cell_type": "code",
   "execution_count": 18,
   "id": "5bd45dc5",
   "metadata": {},
   "outputs": [],
   "source": [
    "wow = 3"
   ]
  },
  {
   "cell_type": "code",
   "execution_count": 19,
   "id": "79a7b72f",
   "metadata": {},
   "outputs": [
    {
     "data": {
      "text/plain": [
       "3"
      ]
     },
     "execution_count": 19,
     "metadata": {},
     "output_type": "execute_result"
    }
   ],
   "source": [
    "wow"
   ]
  },
  {
   "cell_type": "code",
   "execution_count": 20,
   "id": "719bc2fd",
   "metadata": {},
   "outputs": [
    {
     "data": {
      "text/plain": [
       "3"
      ]
     },
     "execution_count": 20,
     "metadata": {},
     "output_type": "execute_result"
    }
   ],
   "source": [
    "3"
   ]
  },
  {
   "cell_type": "markdown",
   "id": "19daa959",
   "metadata": {},
   "source": [
    "this is a markdown using keyboard shortcut"
   ]
  },
  {
   "cell_type": "markdown",
   "id": "b9ba4de0",
   "metadata": {},
   "source": [
    "markdown shortcut is ESC + m"
   ]
  },
  {
   "cell_type": "markdown",
   "id": "d0dbf724",
   "metadata": {},
   "source": [
    "execute code and make a new cell is shift + enter"
   ]
  },
  {
   "cell_type": "markdown",
   "id": "adbf6486",
   "metadata": {},
   "source": [
    "delete a cell using ESC and hitting D twice"
   ]
  },
  {
   "cell_type": "code",
   "execution_count": null,
   "id": "7c3bc52a",
   "metadata": {},
   "outputs": [],
   "source": []
  }
 ],
 "metadata": {
  "kernelspec": {
   "display_name": "Python 3 (ipykernel)",
   "language": "python",
   "name": "python3"
  },
  "language_info": {
   "codemirror_mode": {
    "name": "ipython",
    "version": 3
   },
   "file_extension": ".py",
   "mimetype": "text/x-python",
   "name": "python",
   "nbconvert_exporter": "python",
   "pygments_lexer": "ipython3",
   "version": "3.11.5"
  }
 },
 "nbformat": 4,
 "nbformat_minor": 5
}
